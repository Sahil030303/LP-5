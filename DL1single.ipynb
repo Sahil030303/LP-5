{
  "nbformat": 4,
  "nbformat_minor": 0,
  "metadata": {
    "colab": {
      "provenance": [],
      "authorship_tag": "ABX9TyP5Xj6j5yZ1ibKZHxbvH1H4",
      "include_colab_link": true
    },
    "kernelspec": {
      "name": "python3",
      "display_name": "Python 3"
    },
    "language_info": {
      "name": "python"
    }
  },
  "cells": [
    {
      "cell_type": "markdown",
      "metadata": {
        "id": "view-in-github",
        "colab_type": "text"
      },
      "source": [
        "<a href=\"https://colab.research.google.com/github/Sahil030303/LP-5/blob/main/DL1single.ipynb\" target=\"_parent\"><img src=\"https://colab.research.google.com/assets/colab-badge.svg\" alt=\"Open In Colab\"/></a>"
      ]
    },
    {
      "cell_type": "code",
      "execution_count": null,
      "metadata": {
        "id": "YYj6jEke4wax"
      },
      "outputs": [],
      "source": [
        "import numpy as np\n",
        "import pandas as pd\n",
        "import seaborn as sns\n",
        "import tensorflow as tf\n",
        "from tensorflow import keras\n",
        "from sklearn.model_selection import train_test_split\n",
        "from sklearn.preprocessing import StandardScaler\n",
        "\n",
        "df = pd.read_csv(\"https://raw.githubusercontent.com/selva86/datasets/master/BostonHousing.csv\")\n",
        "df.head(n=10)\n",
        "\n",
        "df.describe()\n",
        "df.info()\n",
        "df.isnull().sum()\n",
        "\n",
        "\n",
        "x = df.drop('medv', axis=1)\n",
        "x\n",
        "y = df['medv']\n",
        "y\n",
        "\n",
        "x_train, x_test, y_train, y_test = train_test_split(x,y, test_size = 0.3, random_state=234)\n",
        "\n",
        "model1 = StandardScaler()\n",
        "x_train_scaled = model1.fit_transform(x_train)\n",
        "x_test_scaled = model1.transform(x_test)\n",
        "\n",
        "from keras.models import Sequential\n",
        "from keras.layers import Dense, Dropout\n",
        "\n",
        "model2 = Sequential()\n",
        "model2.add(Dense(512, activation = 'relu', input_dim = 13))\n",
        "model2.add(Dense(256, activation = 'relu'))\n",
        "model2.add(Dense(128, activation = 'relu'))\n",
        "model2.add(Dense(64, activation = 'relu'))\n",
        "model2.add(Dense(32, activation = 'relu'))\n",
        "model2.add(Dense(16, activation = 'relu'))\n",
        "model2.add(Dense(1))\n",
        "print(model2.summary())\n",
        "\n",
        "model2.compile(optimizer = 'adam', loss = 'mean_squared_error')\n",
        "\n",
        "res = model2.evaluate(x_test_scaled, y_test)\n",
        "res\n",
        "\n",
        "predictions = model2.predict(x_test_scaled)\n",
        "\n",
        "print(\"Actual vs Predicted Values:\")\n",
        "results = pd.DataFrame({'Actual': y_test, 'Predicted': predictions.flatten()})\n",
        "print(results)\n",
        "\n",
        "import matplotlib.pyplot as plt\n",
        "import seaborn as sns\n",
        "plt.figure(figsize=(10, 6))\n",
        "sns.scatterplot(x='Actual', y='Predicted', data=results, alpha=0.7)\n",
        "plt.title('Actual vs Predicted Values')\n",
        "plt.xlabel('Actual Values')\n",
        "plt.ylabel('Predicted Values')\n",
        "plt.show()"
      ]
    }
  ]
}